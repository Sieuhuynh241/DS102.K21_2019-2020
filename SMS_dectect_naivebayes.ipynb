{
  "nbformat": 4,
  "nbformat_minor": 0,
  "metadata": {
    "colab": {
      "name": "SMS_dectect_naivebayes_SVM.ipynb",
      "provenance": [],
      "collapsed_sections": [],
      "toc_visible": true
    },
    "kernelspec": {
      "name": "python3",
      "display_name": "Python 3"
    }
  },
  "cells": [
    {
      "cell_type": "markdown",
      "metadata": {
        "id": "9PTOjK0HWk8N",
        "colab_type": "text"
      },
      "source": [
        "# Step 1: Reading dataset"
      ]
    },
    {
      "cell_type": "code",
      "metadata": {
        "id": "cV_wcZhOQNl4",
        "colab_type": "code",
        "colab": {
          "base_uri": "https://localhost:8080/",
          "height": 286
        },
        "outputId": "ae023d6a-21be-42e7-b17e-913f961d065e"
      },
      "source": [
        "import pandas as pd\n",
        "import seaborn as sb\n",
        "import numpy as np\n",
        "import matplotlib.pyplot as plt\n",
        "\n",
        "import nltk\n",
        "import re\n",
        "nltk.download(\"stopwords\")\n",
        "from nltk.corpus import stopwords\n",
        "from nltk.stem.porter import PorterStemmer\n",
        "from sklearn.metrics import confusion_matrix\n",
        "from sklearn.metrics import accuracy_score\n",
        "from sklearn.metrics import classification_report \n",
        "\n",
        "dataset = pd.read_csv(\"spam.csv\", encoding = \"latin-1\")\n",
        "dataset = dataset.drop(['Unnamed: 2','Unnamed: 3','Unnamed: 4'],axis=1)\n",
        "#cắt bỏ 3 cột cuối vì không có giá trị \n",
        "\n",
        "dataset = dataset.rename(columns   = {'v1':'label','v2':'SMS'})#đặt lại tên cột \n",
        "cols = ['label','SMS']\n",
        "dataset = dataset[cols]\n",
        "\n",
        "# Replace ham with 0 and spam with 1\n",
        "#dataset = dataset.replace(['ham','spam'],[0, 1])\n",
        "print(dataset)\n"
      ],
      "execution_count": null,
      "outputs": [
        {
          "output_type": "stream",
          "text": [
            "[nltk_data] Downloading package stopwords to /root/nltk_data...\n",
            "[nltk_data]   Package stopwords is already up-to-date!\n",
            "     label                                                SMS\n",
            "0      ham  Go until jurong point, crazy.. Available only ...\n",
            "1      ham                      Ok lar... Joking wif u oni...\n",
            "2     spam  Free entry in 2 a wkly comp to win FA Cup fina...\n",
            "3      ham  U dun say so early hor... U c already then say...\n",
            "4      ham  Nah I don't think he goes to usf, he lives aro...\n",
            "...    ...                                                ...\n",
            "5567  spam  This is the 2nd time we have tried 2 contact u...\n",
            "5568   ham              Will Ì_ b going to esplanade fr home?\n",
            "5569   ham  Pity, * was in mood for that. So...any other s...\n",
            "5570   ham  The guy did some bitching but I acted like i'd...\n",
            "5571   ham                         Rofl. Its true to its name\n",
            "\n",
            "[5572 rows x 2 columns]\n"
          ],
          "name": "stdout"
        }
      ]
    },
    {
      "cell_type": "markdown",
      "metadata": {
        "id": "cayphfdnE44P",
        "colab_type": "text"
      },
      "source": [
        "# Step 2: Cleaning the text"
      ]
    },
    {
      "cell_type": "code",
      "metadata": {
        "id": "EAECwKISQdaD",
        "colab_type": "code",
        "colab": {}
      },
      "source": [
        "corpus = []\n",
        "for i in range(0, 5572):\n",
        "    review = re.sub('[^a-zA-Z]', ' ', dataset['SMS'][i])    #loại bỏ tất cả ký tự không phải chữ cái tại hàng i cột SMS\n",
        "    review = review.lower()    #chuyển tất cả ký tự thành in thường\n",
        "    review = review.split()   #tách chuỗi sms thành các từ riêng biệt\n",
        "    ps = PorterStemmer()\n",
        "    review = [ps.stem(word) for word in review if not word in set(stopwords.words('english'))]\n",
        "    #loại bỏ các từ không có nhiều ý nghĩa, chuyển các từ về dạng nguyên mẫu\n",
        "    review = ' '.join(review)  #nối những các chuỗi sms sau khi xử lí lại \n",
        "    corpus.append(review)\n"
      ],
      "execution_count": null,
      "outputs": []
    },
    {
      "cell_type": "code",
      "metadata": {
        "id": "H4FobrNhQinI",
        "colab_type": "code",
        "colab": {}
      },
      "source": [
        "# Creating the Bag of Words model\n",
        "from sklearn.feature_extraction.text import CountVectorizer\n",
        "cv = CountVectorizer(max_features= None)\n",
        "X = cv.fit_transform(corpus).toarray()\n",
        "y = dataset.iloc[:,0].values\n",
        "\n",
        "# Splitting the dataset into the Training set and Test set\n",
        "from sklearn.model_selection import train_test_split\n",
        "X_train, X_test, y_train, y_test =train_test_split(X, y, train_size= 0.8, random_state=0)\n"
      ],
      "execution_count": null,
      "outputs": []
    },
    {
      "cell_type": "markdown",
      "metadata": {
        "id": "6jqLiQKeCO6D",
        "colab_type": "text"
      },
      "source": [
        "# Step 3: Training NB model \n"
      ]
    },
    {
      "cell_type": "code",
      "metadata": {
        "id": "OMGTNrPWQrHL",
        "colab_type": "code",
        "colab": {
          "base_uri": "https://localhost:8080/",
          "height": 34
        },
        "outputId": "50300add-b8ed-4127-ae51-bb83f8802c89"
      },
      "source": [
        "# Training the Naive Bayes model on the Training set\n",
        "#MultinomialNB\n",
        "from sklearn.naive_bayes import MultinomialNB\n",
        "model = MultinomialNB()\n",
        "model.fit(X_train, y_train)\n"
      ],
      "execution_count": null,
      "outputs": [
        {
          "output_type": "execute_result",
          "data": {
            "text/plain": [
              "MultinomialNB(alpha=1.0, class_prior=None, fit_prior=True)"
            ]
          },
          "metadata": {
            "tags": []
          },
          "execution_count": 39
        }
      ]
    },
    {
      "cell_type": "markdown",
      "metadata": {
        "id": "8EaHdKDcCV9J",
        "colab_type": "text"
      },
      "source": [
        "# Step 4: Accurancy score and confusion matrix"
      ]
    },
    {
      "cell_type": "code",
      "metadata": {
        "id": "tO2QBGReQ1DW",
        "colab_type": "code",
        "colab": {
          "base_uri": "https://localhost:8080/",
          "height": 84
        },
        "outputId": "af3d9924-475a-418c-ca32-fd276fd18ef4"
      },
      "source": [
        "#Checking Model's result\n",
        "score_test = []\n",
        "score_train = []\n",
        "name_model = ['Multinomial']\n",
        "score_train.append(model.score(X_train, y_train))\n",
        "score_test.append(model.score(X_test, y_test))\n",
        "\n",
        "df_compare = pd.DataFrame([name_model,score_train,score_test]).T\n",
        "df_compare.columns = ['Name_model','train','test']\n",
        "print(\"\\n Độ chính xác trên train & test\")\n",
        "print(df_compare)\n"
      ],
      "execution_count": null,
      "outputs": [
        {
          "output_type": "stream",
          "text": [
            "\n",
            " Độ chính xác trên train & test\n",
            "    Name_model     train      test\n",
            "0  Multinomial  0.992372  0.979372\n"
          ],
          "name": "stdout"
        }
      ]
    },
    {
      "cell_type": "code",
      "metadata": {
        "id": "4Kg6cbzTQ60A",
        "colab_type": "code",
        "colab": {
          "base_uri": "https://localhost:8080/",
          "height": 362
        },
        "outputId": "ecf6da33-01ee-48ef-d6c6-b04f44e624ca"
      },
      "source": [
        "#Calculate Confusion Matrix on Test set\n",
        "from sklearn.metrics import confusion_matrix\n",
        "cm_test = confusion_matrix(y_test, model.predict(X_test))\n",
        "sb.heatmap(cm_test, annot = True, fmt = 'g', cmap = 'Blues', annot_kws = {\"size\": 40},yticklabels=[\"Ham\", \"Spam\"],xticklabels=[\"Ham\", \"Spam\"])\n",
        "plt.title(\"Test\")\n",
        "plt.xlabel(\"Predicted\")\n",
        "plt.ylabel(\"Actual\")\n",
        "plt.show()\n",
        "print(\"Confusion matrix\\n\",cm_test)\n",
        "print(\"rate:\",(float)(sum(cm_test[i][i] for i in range(2))/sum(cm_test[i][j] for i in range(2) for j in range(2))))\n"
      ],
      "execution_count": null,
      "outputs": [
        {
          "output_type": "display_data",
          "data": {
            "image/png": "[encoded data removed]",
            "text/plain": [
              "<Figure size 432x288 with 2 Axes>"
            ]
          },
          "metadata": {
            "tags": [],
            "needs_background": "light"
          }
        },
        {
          "output_type": "stream",
          "text": [
            "Confusion matrix\n",
            " [[932  17]\n",
            " [  6 160]]\n",
            "rate: 0.979372197309417\n"
          ],
          "name": "stdout"
        }
      ]
    }
  ]
}