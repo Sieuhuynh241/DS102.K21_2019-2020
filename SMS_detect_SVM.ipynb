{
  "nbformat": 4,
  "nbformat_minor": 0,
  "metadata": {
    "colab": {
      "name": "SMS_SVM.ipynb",
      "provenance": [],
      "collapsed_sections": [],
      "toc_visible": true
    },
    "kernelspec": {
      "name": "python3",
      "display_name": "Python 3"
    }
  },
  "cells": [
    {
      "cell_type": "markdown",
      "metadata": {
        "id": "__pIDdkoCigU",
        "colab_type": "text"
      },
      "source": [
        "# Step 1: Reading the dataset "
      ]
    },
    {
      "cell_type": "code",
      "metadata": {
        "id": "l0PiFQyc8Cd8",
        "colab_type": "code",
        "colab": {
          "base_uri": "https://localhost:8080/",
          "height": 286
        },
        "outputId": "40c0e560-c155-4751-e3fd-220c8be5b9d4"
      },
      "source": [
        "import pandas as pd\n",
        "import seaborn as sb\n",
        "import numpy as np\n",
        "import matplotlib.pyplot as plt\n",
        "\n",
        "import nltk\n",
        "import re\n",
        "nltk.download(\"stopwords\")\n",
        "from nltk.corpus import stopwords\n",
        "from nltk.stem.porter import PorterStemmer\n",
        "from sklearn.metrics import confusion_matrix\n",
        "from sklearn.metrics import accuracy_score\n",
        "from sklearn.metrics import classification_report\n",
        "\n",
        "dataset = pd.read_csv(\"spam.csv\", encoding = \"latin-1\")\n",
        "dataset = dataset.drop(['Unnamed: 2','Unnamed: 3','Unnamed: 4'],axis=1)#cắt bỏ 3 cột cuối không có giá trị\n",
        "dataset = dataset.rename(columns   = {'v1':'label','v2':'SMS'})#đặt lại tên cột \n",
        "cols = ['label','SMS']\n",
        "dataset = dataset[cols]\n",
        "\n",
        "# Replace ham with 0 and spam with 1\n",
        "#dataset = dataset.replace(['ham','spam'],[0, 1])\n",
        "\n",
        "print(dataset)"
      ],
      "execution_count": null,
      "outputs": [
        {
          "output_type": "stream",
          "text": [
            "[nltk_data] Downloading package stopwords to /root/nltk_data...\n",
            "[nltk_data]   Package stopwords is already up-to-date!\n",
            "     label                                                SMS\n",
            "0      ham  Go until jurong point, crazy.. Available only ...\n",
            "1      ham                      Ok lar... Joking wif u oni...\n",
            "2     spam  Free entry in 2 a wkly comp to win FA Cup fina...\n",
            "3      ham  U dun say so early hor... U c already then say...\n",
            "4      ham  Nah I don't think he goes to usf, he lives aro...\n",
            "...    ...                                                ...\n",
            "5567  spam  This is the 2nd time we have tried 2 contact u...\n",
            "5568   ham              Will Ì_ b going to esplanade fr home?\n",
            "5569   ham  Pity, * was in mood for that. So...any other s...\n",
            "5570   ham  The guy did some bitching but I acted like i'd...\n",
            "5571   ham                         Rofl. Its true to its name\n",
            "\n",
            "[5572 rows x 2 columns]\n"
          ],
          "name": "stdout"
        }
      ]
    },
    {
      "cell_type": "markdown",
      "metadata": {
        "id": "jVjS-b16GYF9",
        "colab_type": "text"
      },
      "source": [
        "# Step 2:  Cleaning the text"
      ]
    },
    {
      "cell_type": "code",
      "metadata": {
        "id": "t7ksMznBCh2r",
        "colab_type": "code",
        "colab": {}
      },
      "source": [
        "corpus = []\n",
        "for i in range(0, 5572):\n",
        "    review = re.sub('[^a-zA-Z]', ' ', dataset['SMS'][i])    #loại bỏ tất cả ký tự không phải chữ cái tại hàng i cột v2\n",
        "    review = review.lower()    #chuyển tất cả ký tự thành in thường\n",
        "    review = review.split()   #tách chuỗi sms thành các từ riêng biệt\n",
        "    ps = PorterStemmer()\n",
        "    review = [ps.stem(word) for word in review if not word in set(stopwords.words('english'))]\n",
        "    #loại bỏ các từ không có nhiều ý nghĩa, chuyển các từ về dạng nguyên mẫu\n",
        "    review = ' '.join(review)  #nối những các chuỗi sms sau khi xử lí lại \n",
        "    corpus.append(review)\n"
      ],
      "execution_count": null,
      "outputs": []
    },
    {
      "cell_type": "markdown",
      "metadata": {
        "id": "pi8v0v4_I4aY",
        "colab_type": "text"
      },
      "source": [
        "Creat the bags of works and split the dataset "
      ]
    },
    {
      "cell_type": "code",
      "metadata": {
        "id": "sFIu_jiAGdmh",
        "colab_type": "code",
        "colab": {}
      },
      "source": [
        "# Creating the Bag of Words model\n",
        "from sklearn.feature_extraction.text import CountVectorizer\n",
        "cv = CountVectorizer(max_features= None)\n",
        "X = cv.fit_transform(corpus).toarray()\n",
        "y = dataset.iloc[:,0].values\n",
        "\n",
        "# Splitting the dataset into the Training set and Test set\n",
        "from sklearn.model_selection import train_test_split\n",
        "X_train, X_test, y_train, y_test =train_test_split(X, y, train_size= 0.8, random_state=0)\n"
      ],
      "execution_count": null,
      "outputs": []
    },
    {
      "cell_type": "markdown",
      "metadata": {
        "id": "EyU1fRomJTHK",
        "colab_type": "text"
      },
      "source": [
        "# Step 3: Training model \n"
      ]
    },
    {
      "cell_type": "code",
      "metadata": {
        "id": "ahgqDBBrJCcQ",
        "colab_type": "code",
        "colab": {
          "base_uri": "https://localhost:8080/",
          "height": 84
        },
        "outputId": "dee44f28-35dd-4b63-d86d-46bb2ee37853"
      },
      "source": [
        "from sklearn import svm\n",
        "clf=svm.SVC(kernel='linear')\n",
        "clf.fit(X_train,y_train)"
      ],
      "execution_count": null,
      "outputs": [
        {
          "output_type": "execute_result",
          "data": {
            "text/plain": [
              "SVC(C=1.0, break_ties=False, cache_size=200, class_weight=None, coef0=0.0,\n",
              "    decision_function_shape='ovr', degree=3, gamma='scale', kernel='linear',\n",
              "    max_iter=-1, probability=False, random_state=None, shrinking=True,\n",
              "    tol=0.001, verbose=False)"
            ]
          },
          "metadata": {
            "tags": []
          },
          "execution_count": 21
        }
      ]
    },
    {
      "cell_type": "markdown",
      "metadata": {
        "id": "zh8mQ3TtJxlq",
        "colab_type": "text"
      },
      "source": [
        "# Step 4: Acc score and confusion matrix\n"
      ]
    },
    {
      "cell_type": "code",
      "metadata": {
        "id": "aD8tpFcLJxDS",
        "colab_type": "code",
        "colab": {
          "base_uri": "https://localhost:8080/",
          "height": 84
        },
        "outputId": "87d59715-b5fc-45e7-c6bc-13b599f64fbd"
      },
      "source": [
        "#Checking Model's result\n",
        "score_test = []\n",
        "score_train = []\n",
        "name_model = ['SVM']\n",
        "from sklearn.metrics import accuracy_score \n",
        "score_test.append(accuracy_score(y_test, clf.predict(X_test)))\n",
        "score_train.append(accuracy_score(y_train, clf.predict(X_train)))\n",
        "\n",
        "df_compare = pd.DataFrame([name_model,score_train,score_test]).T\n",
        "df_compare.columns = ['Name-model','train','test']\n",
        "print(\"\\n Accurancy on trainset & testset\")\n",
        "print(df_compare)\n",
        "\n",
        "\n"
      ],
      "execution_count": null,
      "outputs": [
        {
          "output_type": "stream",
          "text": [
            "\n",
            " Accurancy on trainset & testset\n",
            "  Name-model     train     test\n",
            "0        SVM  0.999551  0.98296\n"
          ],
          "name": "stdout"
        }
      ]
    },
    {
      "cell_type": "code",
      "metadata": {
        "id": "eKsMUrCxK5D-",
        "colab_type": "code",
        "colab": {
          "base_uri": "https://localhost:8080/",
          "height": 362
        },
        "outputId": "236aac92-d914-4926-b632-1e9b9cbdfa28"
      },
      "source": [
        "#Calculate Confusion Matrix on Testset\n",
        "cm_test = confusion_matrix(y_test, clf.predict(X_test))\n",
        "sb.heatmap(cm_test, annot = True, fmt = 'g', cmap = 'Blues', annot_kws = {\"size\": 40},yticklabels=[\"Ham\", \"Spam\"],xticklabels=[\"Ham\", \"Spam\"])\n",
        "plt.title(\"Test\")\n",
        "plt.xlabel(\"Predicted\")\n",
        "plt.ylabel(\"Actual\")\n",
        "plt.savefig(\"Pic 2.png\")\n",
        "plt.show()\n",
        "print(\"Confusion matrix\\n\",cm_test)\n",
        "print(\"rate:\",(float)(sum(cm_test[i][i] for i in range(2))/sum(cm_test[i][j] for i in range(2) for j in range(2))))\n"
      ],
      "execution_count": null,
      "outputs": [
        {
          "output_type": "display_data",
          "data": {
            "image/png": "[encoded data removed]",
            "text/plain": [
              "<Figure size 432x288 with 2 Axes>"
            ]
          },
          "metadata": {
            "tags": [],
            "needs_background": "light"
          }
        },
        {
          "output_type": "stream",
          "text": [
            "Confusion matrix\n",
            " [[945   4]\n",
            " [ 15 151]]\n",
            "rate: 0.9829596412556054\n"
          ],
          "name": "stdout"
        }
      ]
    }
  ]
}